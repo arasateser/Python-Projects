{
 "cells": [
  {
   "cell_type": "code",
   "execution_count": 100,
   "id": "f8694d0e",
   "metadata": {},
   "outputs": [],
   "source": [
    "import os, shutil"
   ]
  },
  {
   "cell_type": "code",
   "execution_count": 101,
   "id": "96ffb058",
   "metadata": {},
   "outputs": [],
   "source": [
    "path = r\"C:/Users/Aras/Desktop/SQL/\""
   ]
  },
  {
   "cell_type": "code",
   "execution_count": 102,
   "id": "5f79f895",
   "metadata": {},
   "outputs": [],
   "source": [
    "file_name=os.listdir(path)"
   ]
  },
  {
   "cell_type": "code",
   "execution_count": 106,
   "id": "549cd3db",
   "metadata": {},
   "outputs": [
    {
     "name": "stdout",
     "output_type": "stream",
     "text": [
      "other type of file\n"
     ]
    }
   ],
   "source": [
    "folder_names = ['pdf', 'png', 'jpg']\n",
    "\n",
    "for i in range (0,3):\n",
    "    if not os.path.exists(path + folder_names[i]):\n",
    "        os.makedirs(path +folder_names[i])\n",
    "    else:\n",
    "        print('folder already exist')\n",
    "        \n",
    "for j in file_name:\n",
    "    if \".pdf\" in j and not os.path.exists(path + \".pdf/\" + j):\n",
    "        shutil.move(path + j, path + \"pdf/\" +j)\n",
    "    elif \".png\" in j and not os.path.exists(path +\".png/\" + j):\n",
    "        shutil.move(path + j, path + \"png/\" +j)\n",
    "    elif \".jpg\" in j and not os.path.exists(path +\".jpg/\" + j):\n",
    "        shutil.move(path + j, path + \"jpg/\" +j)\n",
    "    else:\n",
    "        print('other type of file')"
   ]
  }
