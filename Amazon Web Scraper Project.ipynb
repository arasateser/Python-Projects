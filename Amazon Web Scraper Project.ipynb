{
 "cells": [
  {
   "cell_type": "code",
   "execution_count": 101,
   "id": "8d2007cb",
   "metadata": {},
   "outputs": [],
   "source": [
    "# importing libraries \n",
    "\n",
    "from bs4 import BeautifulSoup\n",
    "import requests\n",
    "import time\n",
    "import datetime\n",
    "import smtplib"
   ]
  },
  {
   "cell_type": "code",
   "execution_count": 102,
   "id": "e576e518",
   "metadata": {},
   "outputs": [
    {
     "name": "stdout",
     "output_type": "stream",
     "text": [
      "\n",
      "                Star Wars 35th Annual Commemorative Kessel Run Millennium Falcon Shirt\n",
      "               \n",
      "\n",
      "\n",
      "\n",
      "\n",
      "\n",
      "\n",
      "\n",
      "\n",
      "\n",
      "\n",
      "                Price:\n",
      "               \n",
      "\n",
      "\n",
      "\n",
      "                  $16.99\n",
      "                 \n",
      "\n",
      "                  $16.99\n",
      "                 \n",
      "\n",
      "\n",
      "\n",
      "\n",
      "\n",
      "\n",
      "\n",
      "\n",
      "\n",
      "\n",
      "\n",
      "\n",
      "\n",
      "\n",
      "\n",
      "\n",
      "\n",
      "\n",
      "\n",
      "\n",
      "\n",
      "\n",
      "\n",
      "\n",
      "\n",
      "\n",
      "\n",
      "\n",
      "\n",
      "\n",
      "\n",
      "\n",
      "\n",
      "\n",
      "\n",
      "\n",
      "\n"
     ]
    }
   ],
   "source": [
    "# Connecting the Website and pulling the data\n",
    "\n",
    "URL = 'https://www.amazon.com/dp/B071RR13J4/ref=sspa_dk_detail_3?psc=1&pd_rd_i=B071RR13J4&pd_rd_w=brdse&content-id=amzn1.sym.88097cb9-5064-44ef-891b-abfacbc1c44b&pf_rd_p=88097cb9-5064-44ef-891b-abfacbc1c44b&pf_rd_r=SHG8RJD12QVSF9RQ3MNY&pd_rd_wg=ZSXwH&pd_rd_r=0357bca5-2935-4f90-9b9f-5bb354253cc2&s=apparel&sp_csd=d2lkZ2V0TmFtZT1zcF9kZXRhaWw&smid=A2Y0DPX94SONNK&spLa=ZW5jcnlwdGVkUXVhbGlmaWVyPUExVzJDUFk3WDZUMEpKJmVuY3J5cHRlZElkPUEwMDAzNTU4MjlOUldRSFNWSFZLWiZlbmNyeXB0ZWRBZElkPUEwMzY2MjI1MlpMMjNaMVQyMk5JSyZ3aWRnZXROYW1lPXNwX2RldGFpbCZhY3Rpb249Y2xpY2tSZWRpcmVjdCZkb05vdExvZ0NsaWNrPXRydWU='\n",
    "\n",
    "headers = {\"User-Agent\": \"Mozilla/5.0 (Windows NT 10.0; Win64; x64) AppleWebKit/537.36 (KHTML, like Gecko) Chrome/110.0.0.0 Safari/537.36 OPR/96.0.0.0\", \"Accept-Encoding\":\"gzip, deflate\", \"Accept\":\"text/html,application/xhtml+xml,application/xml;q=0.9,*/*;q=0.8\", \"DNT\":\"1\",\"Connection\":\"close\", \"Upgrade-Insecure-Requests\":\"1\"}\n",
    "\n",
    "page = requests.get(URL, headers=headers)\n",
    "\n",
    "soup1 = BeautifulSoup(page.content, \"html.parser\")\n",
    "\n",
    "soup2 = BeautifulSoup(soup1.prettify(), \"html.parser\")\n",
    "\n",
    "title = soup2.find(id='productTitle').get_text()\n",
    "\n",
    "price = soup2.find(id='apex_desktop').get_text()\n",
    "# corePrice_desktop\n",
    "#tp_price_block_total_price_ww\n",
    "#tp-tool-tip-subtotal-price-value\n",
    "print(title)\n",
    "print(price)"
   ]
  },
  {
   "cell_type": "code",
   "execution_count": 103,
   "id": "d820134e",
   "metadata": {},
   "outputs": [
    {
     "name": "stdout",
     "output_type": "stream",
     "text": [
      "Star Wars 35th Annual Commemorative Kessel Run Millennium Falcon Shirt\n",
      "16.99\n"
     ]
    }
   ],
   "source": [
    "#Cleaning the data for better readability\n",
    "\n",
    "price = price.strip()[89:] #cleaning spaces and unnecessary data\n",
    "title = title.strip()\n",
    "\n",
    "print(title)\n",
    "print(price)"
   ]
  },
  {
   "cell_type": "code",
   "execution_count": 104,
   "id": "83285914",
   "metadata": {},
   "outputs": [
    {
     "name": "stdout",
     "output_type": "stream",
     "text": [
      "2023-03-14\n"
     ]
    }
   ],
   "source": [
    "# Creating a timestamp to identify when the data accessed\n",
    "\n",
    "import datetime\n",
    "\n",
    "today = datetime.date.today()\n",
    "\n",
    "print(today)"
   ]
  },
  {
   "cell_type": "code",
   "execution_count": 117,
   "id": "c30c688f",
   "metadata": {},
   "outputs": [],
   "source": [
    "# Creating the csv file, setting headers and the data\n",
    "\n",
    "import csv\n",
    "\n",
    "header = ['Name','Price','Date']\n",
    "data = [title, price, today]\n",
    "\n",
    "with open('AmazonWebScraper.csv','w',newline='', encoding='UTF8') as aws:\n",
    "    writer = csv.writer(aws)\n",
    "    writer.writerow(header)\n",
    "    writer.writerow(data)    "
   ]
  },
  {
   "cell_type": "code",
   "execution_count": 128,
   "id": "2b515c20",
   "metadata": {},
   "outputs": [
    {
     "name": "stdout",
     "output_type": "stream",
     "text": [
      "                                                Name  Price        Date\n",
      "0  Star Wars 35th Annual Commemorative Kessel Run...  16.99  2023-03-14\n",
      "1  Star Wars 35th Annual Commemorative Kessel Run...  16.99  2023-03-14\n",
      "2  Star Wars 35th Annual Commemorative Kessel Run...  16.99  2023-03-14\n",
      "3  Star Wars 35th Annual Commemorative Kessel Run...  16.99  2023-03-14\n",
      "4  Star Wars 35th Annual Commemorative Kessel Run...  16.99  2023-03-14\n"
     ]
    }
   ],
   "source": [
    "import pandas as pd\n",
    "\n",
    "df = pd.read_csv(r'C:\\Users\\Aras\\AmazonWebScraper.csv')\n",
    "print(df)"
   ]
  },
  {
   "cell_type": "code",
   "execution_count": 120,
   "id": "f7f0443d",
   "metadata": {},
   "outputs": [],
   "source": [
    "#Appending data to the set\n",
    "\n",
    "with open('AmazonWebScraper.csv','a+',newline='', encoding='UTF8') as aws:\n",
    "    writer = csv.writer(aws)\n",
    "    #writer.writerow(header)\n",
    "    writer.writerow(data)    "
   ]
  },
  {
   "cell_type": "code",
   "execution_count": 123,
   "id": "590d4125",
   "metadata": {},
   "outputs": [],
   "source": [
    "def check_price():\n",
    "    URL = 'https://www.amazon.com/dp/B071RR13J4/ref=sspa_dk_detail_3?psc=1&pd_rd_i=B071RR13J4&pd_rd_w=brdse&content-id=amzn1.sym.88097cb9-5064-44ef-891b-abfacbc1c44b&pf_rd_p=88097cb9-5064-44ef-891b-abfacbc1c44b&pf_rd_r=SHG8RJD12QVSF9RQ3MNY&pd_rd_wg=ZSXwH&pd_rd_r=0357bca5-2935-4f90-9b9f-5bb354253cc2&s=apparel&sp_csd=d2lkZ2V0TmFtZT1zcF9kZXRhaWw&smid=A2Y0DPX94SONNK&spLa=ZW5jcnlwdGVkUXVhbGlmaWVyPUExVzJDUFk3WDZUMEpKJmVuY3J5cHRlZElkPUEwMDAzNTU4MjlOUldRSFNWSFZLWiZlbmNyeXB0ZWRBZElkPUEwMzY2MjI1MlpMMjNaMVQyMk5JSyZ3aWRnZXROYW1lPXNwX2RldGFpbCZhY3Rpb249Y2xpY2tSZWRpcmVjdCZkb05vdExvZ0NsaWNrPXRydWU='\n",
    "\n",
    "    headers = {\"User-Agent\": \"Mozilla/5.0 (Windows NT 10.0; Win64; x64) AppleWebKit/537.36 (KHTML, like Gecko) Chrome/110.0.0.0 Safari/537.36 OPR/96.0.0.0\", \"Accept-Encoding\":\"gzip, deflate\", \"Accept\":\"text/html,application/xhtml+xml,application/xml;q=0.9,*/*;q=0.8\", \"DNT\":\"1\",\"Connection\":\"close\", \"Upgrade-Insecure-Requests\":\"1\"}\n",
    "\n",
    "    page = requests.get(URL, headers=headers)\n",
    "\n",
    "    soup1 = BeautifulSoup(page.content, \"html.parser\")\n",
    "\n",
    "    soup2 = BeautifulSoup(soup1.prettify(), \"html.parser\")\n",
    "\n",
    "    title = soup2.find(id='productTitle').get_text()\n",
    "\n",
    "    price = soup2.find(id='apex_desktop').get_text()\n",
    "    \n",
    "    price = price.strip()[89:]\n",
    "    title = title.strip()\n",
    "    \n",
    "    import datetime\n",
    "    today = datetime.date.today()\n",
    "\n",
    "    import csv\n",
    "    header = ['Name','Price','Date']\n",
    "    data = [title, price, today]\n",
    "    \n",
    "    with open('AmazonWebScraper.csv','a+',newline='', encoding='UTF8') as aws:\n",
    "        writer = csv.writer(aws)\n",
    "        writer.writerow(data)  "
   ]
  },
  {
   "cell_type": "code",
   "execution_count": null,
   "id": "373fc7a5",
   "metadata": {},
   "outputs": [],
   "source": [
    "while(True):\n",
    "    check_price()\n",
    "    time.sleep(3600)"
   ]
  }
 ],
 "metadata": {
  "kernelspec": {
   "display_name": "Python 3 (ipykernel)",
   "language": "python",
   "name": "python3"
  },
  "language_info": {
   "codemirror_mode": {
    "name": "ipython",
    "version": 3
   },
   "file_extension": ".py",
   "mimetype": "text/x-python",
   "name": "python",
   "nbconvert_exporter": "python",
   "pygments_lexer": "ipython3",
   "version": "3.9.13"
  }
 },
 "nbformat": 4,
 "nbformat_minor": 5
}
